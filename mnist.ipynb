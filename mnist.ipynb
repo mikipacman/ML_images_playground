{
  "nbformat": 4,
  "nbformat_minor": 0,
  "metadata": {
    "accelerator": "GPU",
    "colab": {
      "name": "mnist.ipynb",
      "provenance": [],
      "collapsed_sections": [],
      "include_colab_link": true
    },
    "kernelspec": {
      "name": "python3",
      "display_name": "Python 3"
    }
  },
  "cells": [
    {
      "cell_type": "markdown",
      "metadata": {
        "id": "view-in-github",
        "colab_type": "text"
      },
      "source": [
        "<a href=\"https://colab.research.google.com/github/mikipacman/ML_images_playground/blob/master/mnist.ipynb\" target=\"_parent\"><img src=\"https://colab.research.google.com/assets/colab-badge.svg\" alt=\"Open In Colab\"/></a>"
      ]
    },
    {
      "cell_type": "markdown",
      "metadata": {
        "id": "h0jT30q7gXHl",
        "colab_type": "text"
      },
      "source": [
        "# MNIST classification\n",
        "This small notebook provides example on solving MNIST classification with CNN. I used keras and netpune to track metrics in an organized way (it is not neccessary in small projects like this, but I treat this notebook as an example of nice workflow for working with image classification in keras)"
      ]
    },
    {
      "cell_type": "code",
      "metadata": {
        "id": "5VZ_2PugAIzZ",
        "colab_type": "code",
        "colab": {}
      },
      "source": [
        "pip install neptune-client"
      ],
      "execution_count": null,
      "outputs": []
    },
    {
      "cell_type": "markdown",
      "metadata": {
        "id": "uDrqi7r6hPwW",
        "colab_type": "text"
      },
      "source": [
        "# Import data and define model"
      ]
    },
    {
      "cell_type": "code",
      "metadata": {
        "colab_type": "code",
        "id": "legpz2bYAE89",
        "colab": {
          "base_uri": "https://localhost:8080/",
          "height": 677
        },
        "outputId": "50160174-a625-497c-d065-6e24023825c0"
      },
      "source": [
        "import os\n",
        "from getpass import getpass\n",
        "import keras \n",
        "import neptune\n",
        "from keras.models import Sequential\n",
        "from keras.layers import Dense, Conv2D, MaxPool2D, Reshape, Flatten, Dropout, LeakyReLU\n",
        "from keras.regularizers import l1_l2\n",
        "from keras.optimizers import Adadelta\n",
        "from keras.utils import to_categorical\n",
        "import numpy as np\n",
        "from keras.datasets.mnist import load_data\n",
        "\n",
        "os.environ[\"NEPTUNE_API_TOKEN\"] = getpass(\"Enter neptune api token\")\n",
        "neptune.init(project_qualified_name='miki.pacman/images')\n",
        "(x_train, y_train), (x_test, y_test) = load_data(path=\"mnist.npz\")\n",
        "img_shape = x_train.shape[1:] + (1,)\n",
        "\n",
        "x_train = np.reshape(x_train, (len(x_train),) + img_shape)\n",
        "x_test = np.reshape(x_test, (len(x_test),) + img_shape)\n",
        "y_train = to_categorical(y_train)\n",
        "y_test = to_categorical(y_test)\n",
        "\n",
        "keras.backend.set_image_data_format('channels_last')\n",
        "\n",
        "# Params\n",
        "params = {\n",
        "    'lr_start': 0.01,\n",
        "    'batch_size': 32,\n",
        "}\n",
        "\n",
        "# Model definition\n",
        "model = Sequential([\n",
        "    Conv2D(16, (3, 3), padding=\"same\", input_shape=img_shape),\n",
        "    LeakyReLU(0.3),\n",
        "    MaxPool2D(),\n",
        "\n",
        "    Conv2D(32, (3, 3), padding=\"same\"),\n",
        "    LeakyReLU(0.3),\n",
        "    MaxPool2D(),\n",
        "\n",
        "    Conv2D(64, (3, 3), padding=\"same\"),\n",
        "    LeakyReLU(0.3),\n",
        "    MaxPool2D(),\n",
        "\n",
        "    Conv2D(128, (3, 3), padding=\"same\"),\n",
        "    LeakyReLU(0.3),\n",
        "    MaxPool2D(),\n",
        "\n",
        "    Flatten(),\n",
        "    Dense(10, activation=\"sigmoid\"),\n",
        "])\n",
        "print(model.summary())\n",
        "\n",
        "model.compile(loss='binary_crossentropy', \n",
        "              optimizer=Adadelta(learning_rate=params['lr_start']),\n",
        "              metrics=['categorical_accuracy'])"
      ],
      "execution_count": 28,
      "outputs": [
        {
          "output_type": "stream",
          "text": [
            "Enter neptune api token··········\n",
            "Model: \"sequential_1\"\n",
            "_________________________________________________________________\n",
            "Layer (type)                 Output Shape              Param #   \n",
            "=================================================================\n",
            "conv2d_4 (Conv2D)            (None, 28, 28, 16)        160       \n",
            "_________________________________________________________________\n",
            "leaky_re_lu_4 (LeakyReLU)    (None, 28, 28, 16)        0         \n",
            "_________________________________________________________________\n",
            "max_pooling2d_4 (MaxPooling2 (None, 14, 14, 16)        0         \n",
            "_________________________________________________________________\n",
            "conv2d_5 (Conv2D)            (None, 14, 14, 32)        4640      \n",
            "_________________________________________________________________\n",
            "leaky_re_lu_5 (LeakyReLU)    (None, 14, 14, 32)        0         \n",
            "_________________________________________________________________\n",
            "max_pooling2d_5 (MaxPooling2 (None, 7, 7, 32)          0         \n",
            "_________________________________________________________________\n",
            "conv2d_6 (Conv2D)            (None, 7, 7, 64)          18496     \n",
            "_________________________________________________________________\n",
            "leaky_re_lu_6 (LeakyReLU)    (None, 7, 7, 64)          0         \n",
            "_________________________________________________________________\n",
            "max_pooling2d_6 (MaxPooling2 (None, 3, 3, 64)          0         \n",
            "_________________________________________________________________\n",
            "conv2d_7 (Conv2D)            (None, 3, 3, 128)         73856     \n",
            "_________________________________________________________________\n",
            "leaky_re_lu_7 (LeakyReLU)    (None, 3, 3, 128)         0         \n",
            "_________________________________________________________________\n",
            "max_pooling2d_7 (MaxPooling2 (None, 1, 1, 128)         0         \n",
            "_________________________________________________________________\n",
            "flatten_1 (Flatten)          (None, 128)               0         \n",
            "_________________________________________________________________\n",
            "dense_1 (Dense)              (None, 10)                1290      \n",
            "=================================================================\n",
            "Total params: 98,442\n",
            "Trainable params: 98,442\n",
            "Non-trainable params: 0\n",
            "_________________________________________________________________\n",
            "None\n"
          ],
          "name": "stdout"
        }
      ]
    },
    {
      "cell_type": "markdown",
      "metadata": {
        "id": "xQJTyrVNhVsX",
        "colab_type": "text"
      },
      "source": [
        "# Define callbacks"
      ]
    },
    {
      "cell_type": "code",
      "metadata": {
        "colab_type": "code",
        "id": "LXuG0osDcn6j",
        "colab": {}
      },
      "source": [
        "from keras.callbacks import ModelCheckpoint\n",
        "from keras.callbacks import ReduceLROnPlateau, EarlyStopping\n",
        "from keras.callbacks import Callback\n",
        "import neptune\n",
        "import os\n",
        "import time\n",
        "from PIL import Image\n",
        "\n",
        "\n",
        "# Define callbacks and monitor\n",
        "class NeptuneMonitor(Callback):\n",
        "    def __init__(self, *, test_set=None, send_images=False):\n",
        "        Callback.__init__(self)\n",
        "        self.start_time = time.time()\n",
        "        self.test_set = test_set\n",
        "        self.send_images = send_images\n",
        "        if send_images:\n",
        "            for i, img in enumerate(test_set):\n",
        "                img = (img * 255).astype('uint8')\n",
        "                neptune.send_image(f\"image_{i}\", img)\n",
        "            \n",
        "\n",
        "    def on_epoch_end(self, epoch, logs={}):\n",
        "        for k, v in logs.items():\n",
        "            neptune.send_metric(k, epoch, v)\n",
        "        neptune.send_metric('time_elapsed', epoch, time.time() - self.start_time)\n",
        "\n",
        "        if self.send_images:\n",
        "            imgs = self.model.predict(self.test_set)\n",
        "            imgs = imgs.reshape(len(imgs), img_shape[0], img_shape[1], img_shape[2]) * 255\n",
        "            imgs = imgs.astype('uint8')\n",
        "\n",
        "            for i, img in enumerate(imgs):\n",
        "                neptune.send_image(f\"image_{i}\", img)\n",
        "\n",
        "\n",
        "reduceLR = ReduceLROnPlateau(factor=0.3, patience=3, verbose=1)\n",
        "earlyStop = EarlyStopping(restore_best_weights=True, verbose=1, patience=30)"
      ],
      "execution_count": 4,
      "outputs": []
    },
    {
      "cell_type": "markdown",
      "metadata": {
        "id": "HD93Er_OhaGs",
        "colab_type": "text"
      },
      "source": [
        "# Run it!"
      ]
    },
    {
      "cell_type": "code",
      "metadata": {
        "colab_type": "code",
        "id": "jDCwfMRsAXgH",
        "colab": {
          "base_uri": "https://localhost:8080/",
          "height": 1000
        },
        "outputId": "c2c43428-c664-433b-86db-8968f967c5d0"
      },
      "source": [
        "# Run that s***!\n",
        "with neptune.create_experiment(name=\"mnist classification\", params=params):\n",
        "    model.fit(x_train, \n",
        "              y_train, \n",
        "              batch_size=params[\"batch_size\"],\n",
        "              epochs=1000,\n",
        "              validation_split=0.1,\n",
        "              shuffle=True,\n",
        "              callbacks=[NeptuneMonitor(), reduceLR, earlyStop])"
      ],
      "execution_count": 5,
      "outputs": [
        {
          "output_type": "stream",
          "text": [
            "https://ui.neptune.ai/miki.pacman/images/e/IM-86\n",
            "Epoch 1/1000\n",
            "1688/1688 [==============================] - 7s 4ms/step - loss: 0.4815 - categorical_accuracy: 0.6380 - val_loss: 0.0954 - val_categorical_accuracy: 0.8820\n",
            "Epoch 2/1000\n",
            "1688/1688 [==============================] - 6s 4ms/step - loss: 0.0840 - categorical_accuracy: 0.8941 - val_loss: 0.0555 - val_categorical_accuracy: 0.9353\n",
            "Epoch 3/1000\n",
            "1688/1688 [==============================] - 6s 3ms/step - loss: 0.0574 - categorical_accuracy: 0.9297 - val_loss: 0.0446 - val_categorical_accuracy: 0.9500\n",
            "Epoch 4/1000\n",
            "1688/1688 [==============================] - 6s 3ms/step - loss: 0.0455 - categorical_accuracy: 0.9452 - val_loss: 0.0367 - val_categorical_accuracy: 0.9593\n",
            "Epoch 5/1000\n",
            "1688/1688 [==============================] - 6s 3ms/step - loss: 0.0384 - categorical_accuracy: 0.9543 - val_loss: 0.0317 - val_categorical_accuracy: 0.9655\n",
            "Epoch 6/1000\n",
            "1688/1688 [==============================] - 6s 3ms/step - loss: 0.0334 - categorical_accuracy: 0.9609 - val_loss: 0.0297 - val_categorical_accuracy: 0.9680\n",
            "Epoch 7/1000\n",
            "1688/1688 [==============================] - 6s 3ms/step - loss: 0.0297 - categorical_accuracy: 0.9661 - val_loss: 0.0274 - val_categorical_accuracy: 0.9688\n",
            "Epoch 8/1000\n",
            "1688/1688 [==============================] - 6s 3ms/step - loss: 0.0269 - categorical_accuracy: 0.9694 - val_loss: 0.0255 - val_categorical_accuracy: 0.9717\n",
            "Epoch 9/1000\n",
            "1688/1688 [==============================] - 6s 3ms/step - loss: 0.0246 - categorical_accuracy: 0.9720 - val_loss: 0.0235 - val_categorical_accuracy: 0.9738\n",
            "Epoch 10/1000\n",
            "1688/1688 [==============================] - 6s 3ms/step - loss: 0.0226 - categorical_accuracy: 0.9747 - val_loss: 0.0231 - val_categorical_accuracy: 0.9743\n",
            "Epoch 11/1000\n",
            "1688/1688 [==============================] - 6s 3ms/step - loss: 0.0210 - categorical_accuracy: 0.9764 - val_loss: 0.0211 - val_categorical_accuracy: 0.9762\n",
            "Epoch 12/1000\n",
            "1688/1688 [==============================] - 6s 3ms/step - loss: 0.0195 - categorical_accuracy: 0.9781 - val_loss: 0.0205 - val_categorical_accuracy: 0.9768\n",
            "Epoch 13/1000\n",
            "1688/1688 [==============================] - 6s 3ms/step - loss: 0.0183 - categorical_accuracy: 0.9799 - val_loss: 0.0199 - val_categorical_accuracy: 0.9768\n",
            "Epoch 14/1000\n",
            "1688/1688 [==============================] - 6s 3ms/step - loss: 0.0172 - categorical_accuracy: 0.9807 - val_loss: 0.0200 - val_categorical_accuracy: 0.9790\n",
            "Epoch 15/1000\n",
            "1688/1688 [==============================] - 6s 3ms/step - loss: 0.0162 - categorical_accuracy: 0.9821 - val_loss: 0.0182 - val_categorical_accuracy: 0.9790\n",
            "Epoch 16/1000\n",
            "1688/1688 [==============================] - 6s 3ms/step - loss: 0.0153 - categorical_accuracy: 0.9834 - val_loss: 0.0186 - val_categorical_accuracy: 0.9795\n",
            "Epoch 17/1000\n",
            "1688/1688 [==============================] - 6s 4ms/step - loss: 0.0146 - categorical_accuracy: 0.9841 - val_loss: 0.0175 - val_categorical_accuracy: 0.9807\n",
            "Epoch 18/1000\n",
            "1688/1688 [==============================] - 6s 4ms/step - loss: 0.0139 - categorical_accuracy: 0.9848 - val_loss: 0.0167 - val_categorical_accuracy: 0.9815\n",
            "Epoch 19/1000\n",
            "1688/1688 [==============================] - 6s 3ms/step - loss: 0.0132 - categorical_accuracy: 0.9858 - val_loss: 0.0164 - val_categorical_accuracy: 0.9817\n",
            "Epoch 20/1000\n",
            "1688/1688 [==============================] - 6s 3ms/step - loss: 0.0126 - categorical_accuracy: 0.9865 - val_loss: 0.0160 - val_categorical_accuracy: 0.9825\n",
            "Epoch 21/1000\n",
            "1688/1688 [==============================] - 6s 3ms/step - loss: 0.0121 - categorical_accuracy: 0.9868 - val_loss: 0.0158 - val_categorical_accuracy: 0.9825\n",
            "Epoch 22/1000\n",
            "1688/1688 [==============================] - 6s 3ms/step - loss: 0.0116 - categorical_accuracy: 0.9880 - val_loss: 0.0166 - val_categorical_accuracy: 0.9817\n",
            "Epoch 23/1000\n",
            "1688/1688 [==============================] - 6s 3ms/step - loss: 0.0111 - categorical_accuracy: 0.9883 - val_loss: 0.0162 - val_categorical_accuracy: 0.9815\n",
            "Epoch 24/1000\n",
            "1688/1688 [==============================] - 6s 3ms/step - loss: 0.0107 - categorical_accuracy: 0.9882 - val_loss: 0.0148 - val_categorical_accuracy: 0.9832\n",
            "Epoch 25/1000\n",
            "1688/1688 [==============================] - 6s 3ms/step - loss: 0.0103 - categorical_accuracy: 0.9893 - val_loss: 0.0150 - val_categorical_accuracy: 0.9830\n",
            "Epoch 26/1000\n",
            "1688/1688 [==============================] - 6s 3ms/step - loss: 0.0099 - categorical_accuracy: 0.9897 - val_loss: 0.0147 - val_categorical_accuracy: 0.9830\n",
            "Epoch 27/1000\n",
            "1688/1688 [==============================] - 6s 3ms/step - loss: 0.0095 - categorical_accuracy: 0.9900 - val_loss: 0.0144 - val_categorical_accuracy: 0.9837\n",
            "Epoch 28/1000\n",
            "1688/1688 [==============================] - 6s 3ms/step - loss: 0.0091 - categorical_accuracy: 0.9904 - val_loss: 0.0152 - val_categorical_accuracy: 0.9832\n",
            "Epoch 29/1000\n",
            "1688/1688 [==============================] - 6s 3ms/step - loss: 0.0088 - categorical_accuracy: 0.9908 - val_loss: 0.0142 - val_categorical_accuracy: 0.9845\n",
            "Epoch 30/1000\n",
            "1688/1688 [==============================] - 6s 3ms/step - loss: 0.0085 - categorical_accuracy: 0.9913 - val_loss: 0.0138 - val_categorical_accuracy: 0.9847\n",
            "Epoch 31/1000\n",
            "1688/1688 [==============================] - 6s 3ms/step - loss: 0.0082 - categorical_accuracy: 0.9913 - val_loss: 0.0147 - val_categorical_accuracy: 0.9850\n",
            "Epoch 32/1000\n",
            "1688/1688 [==============================] - 6s 3ms/step - loss: 0.0080 - categorical_accuracy: 0.9919 - val_loss: 0.0138 - val_categorical_accuracy: 0.9855\n",
            "Epoch 33/1000\n",
            "1688/1688 [==============================] - 6s 3ms/step - loss: 0.0077 - categorical_accuracy: 0.9921 - val_loss: 0.0137 - val_categorical_accuracy: 0.9848\n",
            "Epoch 34/1000\n",
            "1688/1688 [==============================] - 6s 3ms/step - loss: 0.0074 - categorical_accuracy: 0.9926 - val_loss: 0.0133 - val_categorical_accuracy: 0.9853\n",
            "Epoch 35/1000\n",
            "1688/1688 [==============================] - 6s 3ms/step - loss: 0.0072 - categorical_accuracy: 0.9932 - val_loss: 0.0133 - val_categorical_accuracy: 0.9863\n",
            "Epoch 36/1000\n",
            "1688/1688 [==============================] - 6s 3ms/step - loss: 0.0069 - categorical_accuracy: 0.9931 - val_loss: 0.0134 - val_categorical_accuracy: 0.9868\n",
            "Epoch 37/1000\n",
            "1678/1688 [============================>.] - ETA: 0s - loss: 0.0067 - categorical_accuracy: 0.9936\n",
            "Epoch 00037: ReduceLROnPlateau reducing learning rate to 0.0029999999329447745.\n",
            "1688/1688 [==============================] - 6s 3ms/step - loss: 0.0067 - categorical_accuracy: 0.9936 - val_loss: 0.0133 - val_categorical_accuracy: 0.9853\n",
            "Epoch 38/1000\n",
            "1688/1688 [==============================] - 6s 3ms/step - loss: 0.0062 - categorical_accuracy: 0.9941 - val_loss: 0.0132 - val_categorical_accuracy: 0.9852\n",
            "Epoch 39/1000\n",
            "1688/1688 [==============================] - 6s 3ms/step - loss: 0.0061 - categorical_accuracy: 0.9943 - val_loss: 0.0132 - val_categorical_accuracy: 0.9855\n",
            "Epoch 40/1000\n",
            "1688/1688 [==============================] - 6s 3ms/step - loss: 0.0060 - categorical_accuracy: 0.9944 - val_loss: 0.0131 - val_categorical_accuracy: 0.9855\n",
            "Epoch 41/1000\n",
            "1688/1688 [==============================] - 6s 3ms/step - loss: 0.0059 - categorical_accuracy: 0.9943 - val_loss: 0.0131 - val_categorical_accuracy: 0.9857\n",
            "Epoch 42/1000\n",
            "1688/1688 [==============================] - 6s 3ms/step - loss: 0.0059 - categorical_accuracy: 0.9945 - val_loss: 0.0130 - val_categorical_accuracy: 0.9858\n",
            "Epoch 43/1000\n",
            "1684/1688 [============================>.] - ETA: 0s - loss: 0.0058 - categorical_accuracy: 0.9946\n",
            "Epoch 00043: ReduceLROnPlateau reducing learning rate to 0.0009000000078231095.\n",
            "1688/1688 [==============================] - 6s 3ms/step - loss: 0.0058 - categorical_accuracy: 0.9946 - val_loss: 0.0131 - val_categorical_accuracy: 0.9858\n",
            "Epoch 44/1000\n",
            "1688/1688 [==============================] - 6s 3ms/step - loss: 0.0057 - categorical_accuracy: 0.9949 - val_loss: 0.0131 - val_categorical_accuracy: 0.9860\n",
            "Epoch 45/1000\n",
            "1688/1688 [==============================] - 6s 3ms/step - loss: 0.0057 - categorical_accuracy: 0.9948 - val_loss: 0.0130 - val_categorical_accuracy: 0.9860\n",
            "Epoch 46/1000\n",
            "1688/1688 [==============================] - 6s 3ms/step - loss: 0.0056 - categorical_accuracy: 0.9950 - val_loss: 0.0129 - val_categorical_accuracy: 0.9863\n",
            "Epoch 47/1000\n",
            "1688/1688 [==============================] - 6s 3ms/step - loss: 0.0056 - categorical_accuracy: 0.9949 - val_loss: 0.0129 - val_categorical_accuracy: 0.9860\n",
            "Epoch 48/1000\n",
            "1688/1688 [==============================] - 6s 3ms/step - loss: 0.0056 - categorical_accuracy: 0.9948 - val_loss: 0.0131 - val_categorical_accuracy: 0.9858\n",
            "Epoch 49/1000\n",
            "1680/1688 [============================>.] - ETA: 0s - loss: 0.0056 - categorical_accuracy: 0.9948\n",
            "Epoch 00049: ReduceLROnPlateau reducing learning rate to 0.00026999999536201356.\n",
            "1688/1688 [==============================] - 6s 3ms/step - loss: 0.0056 - categorical_accuracy: 0.9948 - val_loss: 0.0129 - val_categorical_accuracy: 0.9857\n",
            "Epoch 50/1000\n",
            "1688/1688 [==============================] - 6s 3ms/step - loss: 0.0055 - categorical_accuracy: 0.9950 - val_loss: 0.0129 - val_categorical_accuracy: 0.9862\n",
            "Epoch 51/1000\n",
            "1688/1688 [==============================] - 6s 3ms/step - loss: 0.0055 - categorical_accuracy: 0.9950 - val_loss: 0.0130 - val_categorical_accuracy: 0.9860\n",
            "Epoch 52/1000\n",
            "1678/1688 [============================>.] - ETA: 0s - loss: 0.0055 - categorical_accuracy: 0.9949\n",
            "Epoch 00052: ReduceLROnPlateau reducing learning rate to 8.099999686237424e-05.\n",
            "1688/1688 [==============================] - 6s 3ms/step - loss: 0.0055 - categorical_accuracy: 0.9949 - val_loss: 0.0130 - val_categorical_accuracy: 0.9862\n",
            "Epoch 53/1000\n",
            "1688/1688 [==============================] - 6s 3ms/step - loss: 0.0055 - categorical_accuracy: 0.9950 - val_loss: 0.0129 - val_categorical_accuracy: 0.9860\n",
            "Epoch 54/1000\n",
            "1688/1688 [==============================] - 6s 3ms/step - loss: 0.0055 - categorical_accuracy: 0.9950 - val_loss: 0.0130 - val_categorical_accuracy: 0.9860\n",
            "Epoch 55/1000\n",
            "1674/1688 [============================>.] - ETA: 0s - loss: 0.0055 - categorical_accuracy: 0.9950\n",
            "Epoch 00055: ReduceLROnPlateau reducing learning rate to 2.429999949526973e-05.\n",
            "1688/1688 [==============================] - 6s 4ms/step - loss: 0.0055 - categorical_accuracy: 0.9950 - val_loss: 0.0129 - val_categorical_accuracy: 0.9860\n",
            "Epoch 56/1000\n",
            "1688/1688 [==============================] - 6s 3ms/step - loss: 0.0055 - categorical_accuracy: 0.9950 - val_loss: 0.0129 - val_categorical_accuracy: 0.9860\n",
            "Epoch 57/1000\n",
            "1688/1688 [==============================] - 6s 3ms/step - loss: 0.0055 - categorical_accuracy: 0.9950 - val_loss: 0.0129 - val_categorical_accuracy: 0.9860\n",
            "Epoch 58/1000\n",
            "1677/1688 [============================>.] - ETA: 0s - loss: 0.0054 - categorical_accuracy: 0.9950\n",
            "Epoch 00058: ReduceLROnPlateau reducing learning rate to 7.289999848580919e-06.\n",
            "1688/1688 [==============================] - 6s 3ms/step - loss: 0.0055 - categorical_accuracy: 0.9950 - val_loss: 0.0129 - val_categorical_accuracy: 0.9860\n",
            "Epoch 59/1000\n",
            "1688/1688 [==============================] - 6s 3ms/step - loss: 0.0055 - categorical_accuracy: 0.9950 - val_loss: 0.0129 - val_categorical_accuracy: 0.9860\n",
            "Epoch 60/1000\n",
            "1688/1688 [==============================] - 6s 3ms/step - loss: 0.0055 - categorical_accuracy: 0.9950 - val_loss: 0.0129 - val_categorical_accuracy: 0.9860\n",
            "Epoch 61/1000\n",
            "1673/1688 [============================>.] - ETA: 0s - loss: 0.0055 - categorical_accuracy: 0.9950\n",
            "Epoch 00061: ReduceLROnPlateau reducing learning rate to 2.186999927289435e-06.\n",
            "1688/1688 [==============================] - 6s 3ms/step - loss: 0.0055 - categorical_accuracy: 0.9950 - val_loss: 0.0129 - val_categorical_accuracy: 0.9860\n",
            "Epoch 62/1000\n",
            "1688/1688 [==============================] - 6s 3ms/step - loss: 0.0055 - categorical_accuracy: 0.9950 - val_loss: 0.0129 - val_categorical_accuracy: 0.9860\n",
            "Epoch 63/1000\n",
            "1688/1688 [==============================] - 6s 3ms/step - loss: 0.0055 - categorical_accuracy: 0.9950 - val_loss: 0.0129 - val_categorical_accuracy: 0.9860\n",
            "Epoch 64/1000\n",
            "1685/1688 [============================>.] - ETA: 0s - loss: 0.0055 - categorical_accuracy: 0.9950\n",
            "Epoch 00064: ReduceLROnPlateau reducing learning rate to 6.560999509019894e-07.\n",
            "1688/1688 [==============================] - 6s 4ms/step - loss: 0.0055 - categorical_accuracy: 0.9950 - val_loss: 0.0129 - val_categorical_accuracy: 0.9860\n",
            "Epoch 65/1000\n",
            "1688/1688 [==============================] - 6s 4ms/step - loss: 0.0055 - categorical_accuracy: 0.9950 - val_loss: 0.0129 - val_categorical_accuracy: 0.9860\n",
            "Epoch 66/1000\n",
            "1688/1688 [==============================] - 6s 3ms/step - loss: 0.0055 - categorical_accuracy: 0.9950 - val_loss: 0.0129 - val_categorical_accuracy: 0.9860\n",
            "Epoch 67/1000\n",
            "1675/1688 [============================>.] - ETA: 0s - loss: 0.0055 - categorical_accuracy: 0.9950\n",
            "Epoch 00067: ReduceLROnPlateau reducing learning rate to 1.9682997844938655e-07.\n",
            "1688/1688 [==============================] - 6s 3ms/step - loss: 0.0055 - categorical_accuracy: 0.9950 - val_loss: 0.0129 - val_categorical_accuracy: 0.9860\n",
            "Epoch 68/1000\n",
            "1688/1688 [==============================] - 6s 3ms/step - loss: 0.0055 - categorical_accuracy: 0.9950 - val_loss: 0.0129 - val_categorical_accuracy: 0.9860\n",
            "Epoch 69/1000\n",
            "1688/1688 [==============================] - 6s 3ms/step - loss: 0.0055 - categorical_accuracy: 0.9950 - val_loss: 0.0129 - val_categorical_accuracy: 0.9860\n",
            "Epoch 70/1000\n",
            "1686/1688 [============================>.] - ETA: 0s - loss: 0.0055 - categorical_accuracy: 0.9950\n",
            "Epoch 00070: ReduceLROnPlateau reducing learning rate to 5.9048991829513396e-08.\n",
            "1688/1688 [==============================] - 6s 4ms/step - loss: 0.0055 - categorical_accuracy: 0.9950 - val_loss: 0.0129 - val_categorical_accuracy: 0.9860\n",
            "Epoch 71/1000\n",
            "1688/1688 [==============================] - 6s 4ms/step - loss: 0.0055 - categorical_accuracy: 0.9950 - val_loss: 0.0129 - val_categorical_accuracy: 0.9860\n",
            "Epoch 72/1000\n",
            "1688/1688 [==============================] - 6s 4ms/step - loss: 0.0055 - categorical_accuracy: 0.9950 - val_loss: 0.0129 - val_categorical_accuracy: 0.9860\n",
            "Epoch 73/1000\n",
            "1673/1688 [============================>.] - ETA: 0s - loss: 0.0055 - categorical_accuracy: 0.9950\n",
            "Epoch 00073: ReduceLROnPlateau reducing learning rate to 1.771469797517966e-08.\n",
            "1688/1688 [==============================] - 6s 3ms/step - loss: 0.0055 - categorical_accuracy: 0.9950 - val_loss: 0.0129 - val_categorical_accuracy: 0.9860\n",
            "Epoch 74/1000\n",
            "1688/1688 [==============================] - 6s 3ms/step - loss: 0.0055 - categorical_accuracy: 0.9950 - val_loss: 0.0129 - val_categorical_accuracy: 0.9860\n",
            "Epoch 75/1000\n",
            "1688/1688 [==============================] - 6s 3ms/step - loss: 0.0055 - categorical_accuracy: 0.9950 - val_loss: 0.0129 - val_categorical_accuracy: 0.9860\n",
            "Epoch 76/1000\n",
            "1679/1688 [============================>.] - ETA: 0s - loss: 0.0055 - categorical_accuracy: 0.9950\n",
            "Epoch 00076: ReduceLROnPlateau reducing learning rate to 5.314409179391077e-09.\n",
            "1688/1688 [==============================] - 6s 3ms/step - loss: 0.0055 - categorical_accuracy: 0.9950 - val_loss: 0.0129 - val_categorical_accuracy: 0.9860\n",
            "Epoch 77/1000\n",
            "1679/1688 [============================>.] - ETA: 0s - loss: 0.0055 - categorical_accuracy: 0.9950Restoring model weights from the end of the best epoch.\n",
            "1688/1688 [==============================] - 6s 3ms/step - loss: 0.0055 - categorical_accuracy: 0.9950 - val_loss: 0.0129 - val_categorical_accuracy: 0.9860\n",
            "Epoch 00077: early stopping\n"
          ],
          "name": "stdout"
        }
      ]
    },
    {
      "cell_type": "markdown",
      "metadata": {
        "id": "IzLvGhcQhfn7",
        "colab_type": "text"
      },
      "source": [
        "# Test it\n",
        "We can look at learning curves here: https://ui.neptune.ai/miki.pacman/images/e/IM-86"
      ]
    },
    {
      "cell_type": "code",
      "metadata": {
        "id": "pGwLG0A6_ivF",
        "colab_type": "code",
        "colab": {
          "base_uri": "https://localhost:8080/",
          "height": 52
        },
        "outputId": "2acb907e-c0f7-4b68-d571-ff86306b7863"
      },
      "source": [
        "model.evaluate(x_test, y_test)"
      ],
      "execution_count": 6,
      "outputs": [
        {
          "output_type": "stream",
          "text": [
            "313/313 [==============================] - 1s 2ms/step - loss: 0.0126 - categorical_accuracy: 0.9856\n"
          ],
          "name": "stdout"
        },
        {
          "output_type": "execute_result",
          "data": {
            "text/plain": [
              "[0.01261676661670208, 0.9855999946594238]"
            ]
          },
          "metadata": {
            "tags": []
          },
          "execution_count": 6
        }
      ]
    },
    {
      "cell_type": "markdown",
      "metadata": {
        "id": "dGr0ShZwOtQH",
        "colab_type": "text"
      },
      "source": [
        "# Nice, here are some example predictions"
      ]
    },
    {
      "cell_type": "code",
      "metadata": {
        "id": "sppxIWCHcHMr",
        "colab_type": "code",
        "colab": {
          "base_uri": "https://localhost:8080/",
          "height": 1000
        },
        "outputId": "b69cbc0b-2582-45e4-b67f-88d8217b2319"
      },
      "source": [
        "import matplotlib.pyplot as plt\n",
        "\n",
        "n = 10\n",
        "fig, ax = plt.subplots(n, figsize=(10, 40))\n",
        "for im, label, i in zip(x_test[:n], y_test[:n], range(n)):\n",
        "    ax[i].imshow(im[:, :, 0])\n",
        "    pred = np.argmax(model.predict(im.reshape(1, 28, 28, 1))[0])\n",
        "    real = np.argmax(label)\n",
        "    ax[i].set_title(f\"predicted label: {pred}, real label: {real}\")"
      ],
      "execution_count": 27,
      "outputs": [
        {
          "output_type": "display_data",
          "data": {
            "image/png": "[encoded data removed]",
            "text/plain": [
              "<Figure size 720x2880 with 10 Axes>"
            ]
          },
          "metadata": {
            "tags": [],
            "needs_background": "light"
          }
        }
      ]
    }
  ]
}