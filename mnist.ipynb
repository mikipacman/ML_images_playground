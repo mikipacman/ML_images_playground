{
  "nbformat": 4,
  "nbformat_minor": 0,
  "metadata": {
    "accelerator": "GPU",
    "colab": {
      "name": "mnist.ipynb",
      "provenance": [],
      "collapsed_sections": [],
      "include_colab_link": true
    },
    "kernelspec": {
      "name": "python3",
      "display_name": "Python 3"
    }
  },
  "cells": [
    {
      "cell_type": "markdown",
      "metadata": {
        "id": "view-in-github",
        "colab_type": "text"
      },
      "source": [
        "<a href=\"https://colab.research.google.com/github/mikipacman/ML_images_playground/blob/master/mnist.ipynb\" target=\"_parent\"><img src=\"https://colab.research.google.com/assets/colab-badge.svg\" alt=\"Open In Colab\"/></a>"
      ]
    },
    {
      "cell_type": "markdown",
      "metadata": {
        "id": "h0jT30q7gXHl",
        "colab_type": "text"
      },
      "source": [
        "# MNIST classification\n",
        "This small notebook provides example on solving MNIST classification with CNN. I used keras and netpune to track metrics in an organized way (it is not neccessary in small projects like this, but I treat this notebook as an example of nice workflow for working with image classification in keras)"
      ]
    },
    {
      "cell_type": "code",
      "metadata": {
        "id": "5VZ_2PugAIzZ",
        "colab_type": "code",
        "colab": {
          "base_uri": "https://localhost:8080/",
          "height": 245
        },
        "outputId": "0c4683f9-06c9-4672-fcc7-732acf48b4e3"
      },
      "source": [
        "pip install neptune-client"
      ],
      "execution_count": 2,
      "outputs": [
        {
          "output_type": "stream",
          "text": [
            "  Building wheel for msgpack-python (setup.py) ... \u001b[?25l\u001b[?25hdone\n",
            "  Created wheel for msgpack-python: filename=msgpack_python-0.5.6-cp36-cp36m-linux_x86_64.whl size=304247 sha256=3e94d80c854d9fb14c2ff414b9427434a2696737812bf1d45f7aff4c77e83b22\n",
            "  Stored in directory: /root/.cache/pip/wheels/d5/de/86/7fa56fda12511be47ea0808f3502bc879df4e63ab168ec0406\n",
            "  Building wheel for strict-rfc3339 (setup.py) ... \u001b[?25l\u001b[?25hdone\n",
            "  Created wheel for strict-rfc3339: filename=strict_rfc3339-0.7-cp36-none-any.whl size=18122 sha256=5d5f420e548c68fc4a38eed195025dfd57799ab5b094751c97a713b9aa08d7c9\n",
            "  Stored in directory: /root/.cache/pip/wheels/bb/af/c9/b6e9fb5f9b2470e4ed2a7241c9ab3a8cdd3bc8555ae02ca2e6\n",
            "Successfully built neptune-client future msgpack-python strict-rfc3339\n",
            "Installing collected packages: swagger-spec-validator, jsonref, simplejson, bravado-core, msgpack-python, monotonic, bravado, future, xmltodict, py3nvml, PyJWT, websocket-client, smmap, gitdb, GitPython, neptune-client, rfc3987, webcolors, strict-rfc3339\n",
            "  Found existing installation: future 0.16.0\n",
            "    Uninstalling future-0.16.0:\n",
            "      Successfully uninstalled future-0.16.0\n",
            "Successfully installed GitPython-3.1.8 PyJWT-1.7.1 bravado-10.6.2 bravado-core-5.17.0 future-0.18.2 gitdb-4.0.5 jsonref-0.2 monotonic-1.5 msgpack-python-0.5.6 neptune-client-0.4.119 py3nvml-0.2.6 rfc3987-1.3.8 simplejson-3.17.2 smmap-3.0.4 strict-rfc3339-0.7 swagger-spec-validator-2.7.3 webcolors-1.11.1 websocket-client-0.57.0 xmltodict-0.12.0\n"
          ],
          "name": "stdout"
        }
      ]
    },
    {
      "cell_type": "markdown",
      "metadata": {
        "id": "uDrqi7r6hPwW",
        "colab_type": "text"
      },
      "source": [
        "# Import data and define model"
      ]
    },
    {
      "cell_type": "code",
      "metadata": {
        "colab_type": "code",
        "id": "legpz2bYAE89",
        "colab": {
          "base_uri": "https://localhost:8080/",
          "height": 677
        },
        "outputId": "27a192c9-cb12-43c5-8d34-736b47ad9097"
      },
      "source": [
        "import os\n",
        "from getpass import getpass\n",
        "os.environ[\"NEPTUNE_API_TOKEN\"] = getpass(\"Enter neptune api token\")\n",
        "import keras \n",
        "import neptune\n",
        "from keras.models import Sequential\n",
        "from keras.layers import Dense, Conv2D, MaxPool2D, Reshape, Flatten, Dropout, LeakyReLU\n",
        "from keras.regularizers import l1_l2\n",
        "from keras.optimizers import Adadelta\n",
        "from keras.utils import to_categorical\n",
        "import numpy as np\n",
        "from keras.datasets.mnist import load_data\n",
        "\n",
        "neptune.init(project_qualified_name='miki.pacman/images')\n",
        "(x_train, y_train), (x_test, y_test) = load_data(path=\"mnist.npz\")\n",
        "img_shape = x_train.shape[1:] + (1,)\n",
        "\n",
        "x_train = np.reshape(x_train, (len(x_train),) + img_shape)\n",
        "x_test = np.reshape(x_test, (len(x_test),) + img_shape)\n",
        "y_train = to_categorical(y_train)\n",
        "y_test = to_categorical(y_test)\n",
        "\n",
        "keras.backend.set_image_data_format('channels_last')\n",
        "\n",
        "# Params\n",
        "params = {\n",
        "    'lr_start': 0.01,\n",
        "    'batch_size': 32,\n",
        "}\n",
        "\n",
        "# Model definition\n",
        "model = Sequential([\n",
        "    Conv2D(16, (3, 3), padding=\"same\", input_shape=img_shape),\n",
        "    LeakyReLU(0.3),\n",
        "    MaxPool2D(),\n",
        "\n",
        "    Conv2D(32, (3, 3), padding=\"same\"),\n",
        "    LeakyReLU(0.3),\n",
        "    MaxPool2D(),\n",
        "\n",
        "    Conv2D(64, (3, 3), padding=\"same\"),\n",
        "    LeakyReLU(0.3),\n",
        "    MaxPool2D(),\n",
        "\n",
        "    Conv2D(128, (3, 3), padding=\"same\"),\n",
        "    LeakyReLU(0.3),\n",
        "    MaxPool2D(),\n",
        "\n",
        "    Flatten(),\n",
        "    Dense(10, activation=\"sigmoid\"),\n",
        "])\n",
        "print(model.summary())\n",
        "\n",
        "model.compile(loss='categorical_crossentropy', \n",
        "              optimizer=Adadelta(learning_rate=params['lr_start']),\n",
        "              metrics=['categorical_accuracy'])"
      ],
      "execution_count": 4,
      "outputs": [
        {
          "output_type": "stream",
          "text": [
            "Enter neptune api token··········\n",
            "Model: \"sequential_1\"\n",
            "_________________________________________________________________\n",
            "Layer (type)                 Output Shape              Param #   \n",
            "=================================================================\n",
            "conv2d_4 (Conv2D)            (None, 28, 28, 16)        160       \n",
            "_________________________________________________________________\n",
            "leaky_re_lu_4 (LeakyReLU)    (None, 28, 28, 16)        0         \n",
            "_________________________________________________________________\n",
            "max_pooling2d_4 (MaxPooling2 (None, 14, 14, 16)        0         \n",
            "_________________________________________________________________\n",
            "conv2d_5 (Conv2D)            (None, 14, 14, 32)        4640      \n",
            "_________________________________________________________________\n",
            "leaky_re_lu_5 (LeakyReLU)    (None, 14, 14, 32)        0         \n",
            "_________________________________________________________________\n",
            "max_pooling2d_5 (MaxPooling2 (None, 7, 7, 32)          0         \n",
            "_________________________________________________________________\n",
            "conv2d_6 (Conv2D)            (None, 7, 7, 64)          18496     \n",
            "_________________________________________________________________\n",
            "leaky_re_lu_6 (LeakyReLU)    (None, 7, 7, 64)          0         \n",
            "_________________________________________________________________\n",
            "max_pooling2d_6 (MaxPooling2 (None, 3, 3, 64)          0         \n",
            "_________________________________________________________________\n",
            "conv2d_7 (Conv2D)            (None, 3, 3, 128)         73856     \n",
            "_________________________________________________________________\n",
            "leaky_re_lu_7 (LeakyReLU)    (None, 3, 3, 128)         0         \n",
            "_________________________________________________________________\n",
            "max_pooling2d_7 (MaxPooling2 (None, 1, 1, 128)         0         \n",
            "_________________________________________________________________\n",
            "flatten_1 (Flatten)          (None, 128)               0         \n",
            "_________________________________________________________________\n",
            "dense_1 (Dense)              (None, 10)                1290      \n",
            "=================================================================\n",
            "Total params: 98,442\n",
            "Trainable params: 98,442\n",
            "Non-trainable params: 0\n",
            "_________________________________________________________________\n",
            "None\n"
          ],
          "name": "stdout"
        }
      ]
    },
    {
      "cell_type": "markdown",
      "metadata": {
        "id": "xQJTyrVNhVsX",
        "colab_type": "text"
      },
      "source": [
        "# Define callbacks"
      ]
    },
    {
      "cell_type": "code",
      "metadata": {
        "colab_type": "code",
        "id": "LXuG0osDcn6j",
        "colab": {}
      },
      "source": [
        "from keras.callbacks import ModelCheckpoint\n",
        "from keras.callbacks import ReduceLROnPlateau, EarlyStopping\n",
        "from keras.callbacks import Callback\n",
        "import neptune\n",
        "import os\n",
        "import time\n",
        "from PIL import Image\n",
        "\n",
        "\n",
        "# Define callbacks and monitor\n",
        "class NeptuneMonitor(Callback):\n",
        "    def __init__(self, *, test_set=None, send_images=False):\n",
        "        Callback.__init__(self)\n",
        "        self.start_time = time.time()\n",
        "        self.test_set = test_set\n",
        "        self.send_images = send_images\n",
        "        if send_images:\n",
        "            for i, img in enumerate(test_set):\n",
        "                img = (img * 255).astype('uint8')\n",
        "                neptune.send_image(f\"image_{i}\", img)\n",
        "            \n",
        "\n",
        "    def on_epoch_end(self, epoch, logs={}):\n",
        "        for k, v in logs.items():\n",
        "            neptune.send_metric(k, epoch, v)\n",
        "        neptune.send_metric('time_elapsed', epoch, time.time() - self.start_time)\n",
        "\n",
        "        if self.send_images:\n",
        "            imgs = self.model.predict(self.test_set)\n",
        "            imgs = imgs.reshape(len(imgs), img_shape[0], img_shape[1], img_shape[2]) * 255\n",
        "            imgs = imgs.astype('uint8')\n",
        "\n",
        "            for i, img in enumerate(imgs):\n",
        "                neptune.send_image(f\"image_{i}\", img)\n",
        "\n",
        "\n",
        "reduceLR = ReduceLROnPlateau(factor=0.3, patience=3, verbose=1)\n",
        "earlyStop = EarlyStopping(restore_best_weights=True, verbose=1, patience=30)"
      ],
      "execution_count": 5,
      "outputs": []
    },
    {
      "cell_type": "markdown",
      "metadata": {
        "id": "HD93Er_OhaGs",
        "colab_type": "text"
      },
      "source": [
        "# Run it!"
      ]
    },
    {
      "cell_type": "code",
      "metadata": {
        "colab_type": "code",
        "id": "jDCwfMRsAXgH",
        "colab": {
          "base_uri": "https://localhost:8080/",
          "height": 1000
        },
        "outputId": "e5033ec1-791c-45d7-fee9-b5be20f84fa9"
      },
      "source": [
        "# Run that s***!\n",
        "with neptune.create_experiment(name=\"mnist classification\", params=params):\n",
        "    model.fit(x_train, \n",
        "              y_train, \n",
        "              batch_size=params[\"batch_size\"],\n",
        "              epochs=1000,\n",
        "              validation_split=0.1,\n",
        "              shuffle=True,\n",
        "              callbacks=[NeptuneMonitor(), reduceLR, earlyStop])"
      ],
      "execution_count": 6,
      "outputs": [
        {
          "output_type": "stream",
          "text": [
            "https://ui.neptune.ai/miki.pacman/images/e/IM-94\n",
            "Epoch 1/1000\n",
            "1688/1688 [==============================] - 7s 4ms/step - loss: 4.5682 - categorical_accuracy: 0.0985 - val_loss: 4.2311 - val_categorical_accuracy: 0.1093\n",
            "Epoch 2/1000\n",
            "1688/1688 [==============================] - 6s 4ms/step - loss: 4.1015 - categorical_accuracy: 0.1295 - val_loss: 3.8801 - val_categorical_accuracy: 0.1508\n",
            "Epoch 3/1000\n",
            "1688/1688 [==============================] - 6s 4ms/step - loss: 3.6044 - categorical_accuracy: 0.5609 - val_loss: 3.3579 - val_categorical_accuracy: 0.7445\n",
            "Epoch 4/1000\n",
            "1688/1688 [==============================] - 6s 4ms/step - loss: 3.3784 - categorical_accuracy: 0.7446 - val_loss: 3.3005 - val_categorical_accuracy: 0.7610\n",
            "Epoch 5/1000\n",
            "1688/1688 [==============================] - 6s 4ms/step - loss: 3.3292 - categorical_accuracy: 0.7581 - val_loss: 3.2767 - val_categorical_accuracy: 0.7672\n",
            "Epoch 6/1000\n",
            "1688/1688 [==============================] - 6s 4ms/step - loss: 3.2996 - categorical_accuracy: 0.7664 - val_loss: 3.2565 - val_categorical_accuracy: 0.7712\n",
            "Epoch 7/1000\n",
            "1688/1688 [==============================] - 6s 4ms/step - loss: 3.2797 - categorical_accuracy: 0.7717 - val_loss: 3.2525 - val_categorical_accuracy: 0.7728\n",
            "Epoch 8/1000\n",
            "1688/1688 [==============================] - 6s 4ms/step - loss: 3.2647 - categorical_accuracy: 0.7753 - val_loss: 3.2402 - val_categorical_accuracy: 0.7763\n",
            "Epoch 9/1000\n",
            "1688/1688 [==============================] - 6s 4ms/step - loss: 3.2533 - categorical_accuracy: 0.7783 - val_loss: 3.2333 - val_categorical_accuracy: 0.7778\n",
            "Epoch 10/1000\n",
            "1688/1688 [==============================] - 6s 4ms/step - loss: 2.6502 - categorical_accuracy: 0.8013 - val_loss: 1.7031 - val_categorical_accuracy: 0.8560\n",
            "Epoch 11/1000\n",
            "1688/1688 [==============================] - 6s 4ms/step - loss: 1.7316 - categorical_accuracy: 0.8619 - val_loss: 1.6594 - val_categorical_accuracy: 0.8682\n",
            "Epoch 12/1000\n",
            "1688/1688 [==============================] - 6s 4ms/step - loss: 1.7019 - categorical_accuracy: 0.8699 - val_loss: 1.6419 - val_categorical_accuracy: 0.8738\n",
            "Epoch 13/1000\n",
            "1688/1688 [==============================] - 6s 4ms/step - loss: 1.6874 - categorical_accuracy: 0.8746 - val_loss: 1.6352 - val_categorical_accuracy: 0.8763\n",
            "Epoch 14/1000\n",
            "1688/1688 [==============================] - 6s 4ms/step - loss: 1.6770 - categorical_accuracy: 0.8771 - val_loss: 1.6256 - val_categorical_accuracy: 0.8778\n",
            "Epoch 15/1000\n",
            "1688/1688 [==============================] - 6s 4ms/step - loss: 1.6693 - categorical_accuracy: 0.8794 - val_loss: 1.6238 - val_categorical_accuracy: 0.8798\n",
            "Epoch 16/1000\n",
            "1688/1688 [==============================] - 6s 4ms/step - loss: 1.6631 - categorical_accuracy: 0.8807 - val_loss: 1.6167 - val_categorical_accuracy: 0.8810\n",
            "Epoch 17/1000\n",
            "1688/1688 [==============================] - 6s 4ms/step - loss: 1.6578 - categorical_accuracy: 0.8827 - val_loss: 1.6228 - val_categorical_accuracy: 0.8803\n",
            "Epoch 18/1000\n",
            "1688/1688 [==============================] - 6s 4ms/step - loss: 1.6530 - categorical_accuracy: 0.8837 - val_loss: 1.6124 - val_categorical_accuracy: 0.8812\n",
            "Epoch 19/1000\n",
            "1688/1688 [==============================] - 6s 4ms/step - loss: 0.4209 - categorical_accuracy: 0.9457 - val_loss: 0.1079 - val_categorical_accuracy: 0.9682\n",
            "Epoch 20/1000\n",
            "1688/1688 [==============================] - 6s 4ms/step - loss: 0.0833 - categorical_accuracy: 0.9749 - val_loss: 0.1032 - val_categorical_accuracy: 0.9707\n",
            "Epoch 21/1000\n",
            "1688/1688 [==============================] - 6s 4ms/step - loss: 0.0704 - categorical_accuracy: 0.9786 - val_loss: 0.1006 - val_categorical_accuracy: 0.9723\n",
            "Epoch 22/1000\n",
            "1688/1688 [==============================] - 6s 4ms/step - loss: 0.0634 - categorical_accuracy: 0.9810 - val_loss: 0.0901 - val_categorical_accuracy: 0.9753\n",
            "Epoch 23/1000\n",
            "1688/1688 [==============================] - 6s 4ms/step - loss: 0.0581 - categorical_accuracy: 0.9824 - val_loss: 0.0850 - val_categorical_accuracy: 0.9760\n",
            "Epoch 24/1000\n",
            "1688/1688 [==============================] - 6s 4ms/step - loss: 0.0530 - categorical_accuracy: 0.9838 - val_loss: 0.0873 - val_categorical_accuracy: 0.9748\n",
            "Epoch 25/1000\n",
            "1688/1688 [==============================] - 6s 4ms/step - loss: 0.0494 - categorical_accuracy: 0.9848 - val_loss: 0.0865 - val_categorical_accuracy: 0.9747\n",
            "Epoch 26/1000\n",
            "1688/1688 [==============================] - 7s 4ms/step - loss: 0.0456 - categorical_accuracy: 0.9866 - val_loss: 0.0796 - val_categorical_accuracy: 0.9775\n",
            "Epoch 27/1000\n",
            "1688/1688 [==============================] - 6s 4ms/step - loss: 0.0426 - categorical_accuracy: 0.9876 - val_loss: 0.0802 - val_categorical_accuracy: 0.9772\n",
            "Epoch 28/1000\n",
            "1688/1688 [==============================] - 6s 4ms/step - loss: 0.0401 - categorical_accuracy: 0.9883 - val_loss: 0.0799 - val_categorical_accuracy: 0.9768\n",
            "Epoch 29/1000\n",
            "1688/1688 [==============================] - 6s 4ms/step - loss: 0.0376 - categorical_accuracy: 0.9893 - val_loss: 0.0779 - val_categorical_accuracy: 0.9775\n",
            "Epoch 30/1000\n",
            "1688/1688 [==============================] - 6s 4ms/step - loss: 0.0353 - categorical_accuracy: 0.9899 - val_loss: 0.0781 - val_categorical_accuracy: 0.9783\n",
            "Epoch 31/1000\n",
            "1688/1688 [==============================] - 6s 4ms/step - loss: 0.0329 - categorical_accuracy: 0.9902 - val_loss: 0.0772 - val_categorical_accuracy: 0.9782\n",
            "Epoch 32/1000\n",
            "1688/1688 [==============================] - 6s 4ms/step - loss: 0.0312 - categorical_accuracy: 0.9915 - val_loss: 0.0782 - val_categorical_accuracy: 0.9782\n",
            "Epoch 33/1000\n",
            "1688/1688 [==============================] - 6s 4ms/step - loss: 0.0296 - categorical_accuracy: 0.9916 - val_loss: 0.0736 - val_categorical_accuracy: 0.9795\n",
            "Epoch 34/1000\n",
            "1688/1688 [==============================] - 6s 4ms/step - loss: 0.0280 - categorical_accuracy: 0.9924 - val_loss: 0.0761 - val_categorical_accuracy: 0.9797\n",
            "Epoch 35/1000\n",
            "1688/1688 [==============================] - 6s 4ms/step - loss: 0.0263 - categorical_accuracy: 0.9931 - val_loss: 0.0787 - val_categorical_accuracy: 0.9797\n",
            "Epoch 36/1000\n",
            "1688/1688 [==============================] - 6s 4ms/step - loss: 0.0249 - categorical_accuracy: 0.9933 - val_loss: 0.0714 - val_categorical_accuracy: 0.9805\n",
            "Epoch 37/1000\n",
            "1688/1688 [==============================] - 6s 4ms/step - loss: 0.0233 - categorical_accuracy: 0.9937 - val_loss: 0.0718 - val_categorical_accuracy: 0.9795\n",
            "Epoch 38/1000\n",
            "1688/1688 [==============================] - 6s 4ms/step - loss: 0.0220 - categorical_accuracy: 0.9943 - val_loss: 0.0710 - val_categorical_accuracy: 0.9800\n",
            "Epoch 39/1000\n",
            "1688/1688 [==============================] - 6s 4ms/step - loss: 0.0209 - categorical_accuracy: 0.9947 - val_loss: 0.0715 - val_categorical_accuracy: 0.9798\n",
            "Epoch 40/1000\n",
            "1688/1688 [==============================] - 6s 4ms/step - loss: 0.0199 - categorical_accuracy: 0.9949 - val_loss: 0.0700 - val_categorical_accuracy: 0.9805\n",
            "Epoch 41/1000\n",
            "1688/1688 [==============================] - 6s 4ms/step - loss: 0.0189 - categorical_accuracy: 0.9950 - val_loss: 0.0697 - val_categorical_accuracy: 0.9813\n",
            "Epoch 42/1000\n",
            "1688/1688 [==============================] - 6s 4ms/step - loss: 0.0177 - categorical_accuracy: 0.9955 - val_loss: 0.0685 - val_categorical_accuracy: 0.9817\n",
            "Epoch 43/1000\n",
            "1688/1688 [==============================] - 6s 4ms/step - loss: 0.0171 - categorical_accuracy: 0.9957 - val_loss: 0.0702 - val_categorical_accuracy: 0.9802\n",
            "Epoch 44/1000\n",
            "1688/1688 [==============================] - 6s 4ms/step - loss: 0.0162 - categorical_accuracy: 0.9959 - val_loss: 0.0671 - val_categorical_accuracy: 0.9817\n",
            "Epoch 45/1000\n",
            "1688/1688 [==============================] - 6s 4ms/step - loss: 0.0152 - categorical_accuracy: 0.9962 - val_loss: 0.0714 - val_categorical_accuracy: 0.9802\n",
            "Epoch 46/1000\n",
            "1688/1688 [==============================] - 6s 4ms/step - loss: 0.0144 - categorical_accuracy: 0.9965 - val_loss: 0.0710 - val_categorical_accuracy: 0.9812\n",
            "Epoch 47/1000\n",
            "1688/1688 [==============================] - 6s 4ms/step - loss: 0.0137 - categorical_accuracy: 0.9968 - val_loss: 0.0645 - val_categorical_accuracy: 0.9822\n",
            "Epoch 48/1000\n",
            "1688/1688 [==============================] - 6s 4ms/step - loss: 0.0128 - categorical_accuracy: 0.9969 - val_loss: 0.0744 - val_categorical_accuracy: 0.9795\n",
            "Epoch 49/1000\n",
            "1688/1688 [==============================] - 6s 4ms/step - loss: 0.0122 - categorical_accuracy: 0.9973 - val_loss: 0.0699 - val_categorical_accuracy: 0.9808\n",
            "Epoch 50/1000\n",
            "1679/1688 [============================>.] - ETA: 0s - loss: 0.0117 - categorical_accuracy: 0.9972\n",
            "Epoch 00050: ReduceLROnPlateau reducing learning rate to 0.0029999999329447745.\n",
            "1688/1688 [==============================] - 6s 4ms/step - loss: 0.0117 - categorical_accuracy: 0.9971 - val_loss: 0.0682 - val_categorical_accuracy: 0.9807\n",
            "Epoch 51/1000\n",
            "1688/1688 [==============================] - 6s 4ms/step - loss: 0.0099 - categorical_accuracy: 0.9979 - val_loss: 0.0659 - val_categorical_accuracy: 0.9830\n",
            "Epoch 52/1000\n",
            "1688/1688 [==============================] - 6s 4ms/step - loss: 0.0096 - categorical_accuracy: 0.9981 - val_loss: 0.0657 - val_categorical_accuracy: 0.9818\n",
            "Epoch 53/1000\n",
            "1678/1688 [============================>.] - ETA: 0s - loss: 0.0095 - categorical_accuracy: 0.9981\n",
            "Epoch 00053: ReduceLROnPlateau reducing learning rate to 0.0009000000078231095.\n",
            "1688/1688 [==============================] - 6s 4ms/step - loss: 0.0095 - categorical_accuracy: 0.9981 - val_loss: 0.0672 - val_categorical_accuracy: 0.9813\n",
            "Epoch 54/1000\n",
            "1688/1688 [==============================] - 6s 4ms/step - loss: 0.0089 - categorical_accuracy: 0.9983 - val_loss: 0.0662 - val_categorical_accuracy: 0.9818\n",
            "Epoch 55/1000\n",
            "1688/1688 [==============================] - 6s 4ms/step - loss: 0.0089 - categorical_accuracy: 0.9983 - val_loss: 0.0660 - val_categorical_accuracy: 0.9825\n",
            "Epoch 56/1000\n",
            "1681/1688 [============================>.] - ETA: 0s - loss: 0.0089 - categorical_accuracy: 0.9983\n",
            "Epoch 00056: ReduceLROnPlateau reducing learning rate to 0.00026999999536201356.\n",
            "1688/1688 [==============================] - 6s 4ms/step - loss: 0.0089 - categorical_accuracy: 0.9984 - val_loss: 0.0662 - val_categorical_accuracy: 0.9818\n",
            "Epoch 57/1000\n",
            "1688/1688 [==============================] - 6s 4ms/step - loss: 0.0087 - categorical_accuracy: 0.9983 - val_loss: 0.0659 - val_categorical_accuracy: 0.9820\n",
            "Epoch 58/1000\n",
            "1688/1688 [==============================] - 6s 4ms/step - loss: 0.0087 - categorical_accuracy: 0.9983 - val_loss: 0.0659 - val_categorical_accuracy: 0.9822\n",
            "Epoch 59/1000\n",
            "1681/1688 [============================>.] - ETA: 0s - loss: 0.0087 - categorical_accuracy: 0.9983\n",
            "Epoch 00059: ReduceLROnPlateau reducing learning rate to 8.099999686237424e-05.\n",
            "1688/1688 [==============================] - 6s 4ms/step - loss: 0.0087 - categorical_accuracy: 0.9983 - val_loss: 0.0657 - val_categorical_accuracy: 0.9820\n",
            "Epoch 60/1000\n",
            "1688/1688 [==============================] - 6s 4ms/step - loss: 0.0086 - categorical_accuracy: 0.9983 - val_loss: 0.0657 - val_categorical_accuracy: 0.9818\n",
            "Epoch 61/1000\n",
            "1688/1688 [==============================] - 6s 4ms/step - loss: 0.0086 - categorical_accuracy: 0.9983 - val_loss: 0.0658 - val_categorical_accuracy: 0.9820\n",
            "Epoch 62/1000\n",
            "1680/1688 [============================>.] - ETA: 0s - loss: 0.0086 - categorical_accuracy: 0.9983\n",
            "Epoch 00062: ReduceLROnPlateau reducing learning rate to 2.429999949526973e-05.\n",
            "1688/1688 [==============================] - 6s 4ms/step - loss: 0.0086 - categorical_accuracy: 0.9983 - val_loss: 0.0658 - val_categorical_accuracy: 0.9818\n",
            "Epoch 63/1000\n",
            "1688/1688 [==============================] - 6s 4ms/step - loss: 0.0086 - categorical_accuracy: 0.9983 - val_loss: 0.0658 - val_categorical_accuracy: 0.9818\n",
            "Epoch 64/1000\n",
            "1688/1688 [==============================] - 6s 4ms/step - loss: 0.0086 - categorical_accuracy: 0.9983 - val_loss: 0.0658 - val_categorical_accuracy: 0.9820\n",
            "Epoch 65/1000\n",
            "1682/1688 [============================>.] - ETA: 0s - loss: 0.0086 - categorical_accuracy: 0.9983\n",
            "Epoch 00065: ReduceLROnPlateau reducing learning rate to 7.289999848580919e-06.\n",
            "1688/1688 [==============================] - 6s 4ms/step - loss: 0.0086 - categorical_accuracy: 0.9983 - val_loss: 0.0658 - val_categorical_accuracy: 0.9820\n",
            "Epoch 66/1000\n",
            "1688/1688 [==============================] - 6s 4ms/step - loss: 0.0086 - categorical_accuracy: 0.9983 - val_loss: 0.0658 - val_categorical_accuracy: 0.9820\n",
            "Epoch 67/1000\n",
            "1688/1688 [==============================] - 6s 4ms/step - loss: 0.0086 - categorical_accuracy: 0.9983 - val_loss: 0.0658 - val_categorical_accuracy: 0.9820\n",
            "Epoch 68/1000\n",
            "1686/1688 [============================>.] - ETA: 0s - loss: 0.0086 - categorical_accuracy: 0.9983\n",
            "Epoch 00068: ReduceLROnPlateau reducing learning rate to 2.186999927289435e-06.\n",
            "1688/1688 [==============================] - 6s 4ms/step - loss: 0.0086 - categorical_accuracy: 0.9983 - val_loss: 0.0658 - val_categorical_accuracy: 0.9820\n",
            "Epoch 69/1000\n",
            "1688/1688 [==============================] - 6s 4ms/step - loss: 0.0086 - categorical_accuracy: 0.9983 - val_loss: 0.0658 - val_categorical_accuracy: 0.9820\n",
            "Epoch 70/1000\n",
            "1688/1688 [==============================] - 6s 4ms/step - loss: 0.0086 - categorical_accuracy: 0.9983 - val_loss: 0.0658 - val_categorical_accuracy: 0.9820\n",
            "Epoch 71/1000\n",
            "1681/1688 [============================>.] - ETA: 0s - loss: 0.0086 - categorical_accuracy: 0.9983\n",
            "Epoch 00071: ReduceLROnPlateau reducing learning rate to 6.560999509019894e-07.\n",
            "1688/1688 [==============================] - 6s 4ms/step - loss: 0.0086 - categorical_accuracy: 0.9983 - val_loss: 0.0658 - val_categorical_accuracy: 0.9820\n",
            "Epoch 72/1000\n",
            "1688/1688 [==============================] - 6s 4ms/step - loss: 0.0086 - categorical_accuracy: 0.9983 - val_loss: 0.0658 - val_categorical_accuracy: 0.9820\n",
            "Epoch 73/1000\n",
            "1688/1688 [==============================] - 6s 4ms/step - loss: 0.0086 - categorical_accuracy: 0.9983 - val_loss: 0.0658 - val_categorical_accuracy: 0.9820\n",
            "Epoch 74/1000\n",
            "1675/1688 [============================>.] - ETA: 0s - loss: 0.0086 - categorical_accuracy: 0.9983\n",
            "Epoch 00074: ReduceLROnPlateau reducing learning rate to 1.9682997844938655e-07.\n",
            "1688/1688 [==============================] - 6s 4ms/step - loss: 0.0086 - categorical_accuracy: 0.9983 - val_loss: 0.0658 - val_categorical_accuracy: 0.9820\n",
            "Epoch 75/1000\n",
            "1688/1688 [==============================] - 6s 4ms/step - loss: 0.0086 - categorical_accuracy: 0.9983 - val_loss: 0.0658 - val_categorical_accuracy: 0.9820\n",
            "Epoch 76/1000\n",
            "1688/1688 [==============================] - 6s 4ms/step - loss: 0.0086 - categorical_accuracy: 0.9983 - val_loss: 0.0658 - val_categorical_accuracy: 0.9820\n",
            "Epoch 77/1000\n",
            "1675/1688 [============================>.] - ETA: 0s - loss: 0.0085 - categorical_accuracy: 0.9984\n",
            "Epoch 00077: ReduceLROnPlateau reducing learning rate to 5.9048991829513396e-08.\n",
            "Restoring model weights from the end of the best epoch.\n",
            "1688/1688 [==============================] - 7s 4ms/step - loss: 0.0086 - categorical_accuracy: 0.9983 - val_loss: 0.0658 - val_categorical_accuracy: 0.9820\n",
            "Epoch 00077: early stopping\n"
          ],
          "name": "stdout"
        }
      ]
    },
    {
      "cell_type": "markdown",
      "metadata": {
        "id": "IzLvGhcQhfn7",
        "colab_type": "text"
      },
      "source": [
        "# Test it\n",
        "We can look at learning curves here: https://ui.neptune.ai/miki.pacman/images/e/IM-94"
      ]
    },
    {
      "cell_type": "code",
      "metadata": {
        "id": "pGwLG0A6_ivF",
        "colab_type": "code",
        "colab": {
          "base_uri": "https://localhost:8080/",
          "height": 52
        },
        "outputId": "313b9f95-9a97-4229-9a03-e1f26c7c6f90"
      },
      "source": [
        "model.evaluate(x_test, y_test)"
      ],
      "execution_count": 7,
      "outputs": [
        {
          "output_type": "stream",
          "text": [
            "313/313 [==============================] - 1s 2ms/step - loss: 0.0698 - categorical_accuracy: 0.9825\n"
          ],
          "name": "stdout"
        },
        {
          "output_type": "execute_result",
          "data": {
            "text/plain": [
              "[0.06980528682470322, 0.9825000166893005]"
            ]
          },
          "metadata": {
            "tags": []
          },
          "execution_count": 7
        }
      ]
    },
    {
      "cell_type": "markdown",
      "metadata": {
        "id": "dGr0ShZwOtQH",
        "colab_type": "text"
      },
      "source": [
        "# Nice, here are some example predictions"
      ]
    },
    {
      "cell_type": "code",
      "metadata": {
        "id": "sppxIWCHcHMr",
        "colab_type": "code",
        "colab": {
          "base_uri": "https://localhost:8080/",
          "height": 1000
        },
        "outputId": "5a9672a1-0e94-4795-d26b-2d30c88fe286"
      },
      "source": [
        "import matplotlib.pyplot as plt\n",
        "\n",
        "n = 10\n",
        "fig, ax = plt.subplots(n, figsize=(10, 40))\n",
        "for im, label, i in zip(x_test[:n], y_test[:n], range(n)):\n",
        "    ax[i].imshow(im[:, :, 0])\n",
        "    pred = np.argmax(model.predict(im.reshape(1, 28, 28, 1))[0])\n",
        "    real = np.argmax(label)\n",
        "    ax[i].set_title(f\"predicted label: {pred}, real label: {real}\")"
      ],
      "execution_count": 8,
      "outputs": [
        {
          "output_type": "display_data",
          "data": {
            "image/png": "[encoded data removed]",
            "text/plain": [
              "<Figure size 720x2880 with 10 Axes>"
            ]
          },
          "metadata": {
            "tags": [],
            "needs_background": "light"
          }
        }
      ]
    }
  ]
}